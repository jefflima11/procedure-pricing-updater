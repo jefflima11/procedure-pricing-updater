{
 "cells": [
  {
   "cell_type": "code",
   "execution_count": 1,
   "id": "194a4e6b",
   "metadata": {},
   "outputs": [],
   "source": [
    "import cx_Oracle\n",
    "from connection_oracle import get_conexao\n",
    "import pandas as pd"
   ]
  },
  {
   "cell_type": "code",
   "execution_count": 2,
   "id": "0f5a8946",
   "metadata": {},
   "outputs": [
    {
     "data": {
      "text/html": [
       "<div>\n",
       "<style scoped>\n",
       "    .dataframe tbody tr th:only-of-type {\n",
       "        vertical-align: middle;\n",
       "    }\n",
       "\n",
       "    .dataframe tbody tr th {\n",
       "        vertical-align: top;\n",
       "    }\n",
       "\n",
       "    .dataframe thead th {\n",
       "        text-align: right;\n",
       "    }\n",
       "</style>\n",
       "<table border=\"1\" class=\"dataframe\">\n",
       "  <thead>\n",
       "    <tr style=\"text-align: right;\">\n",
       "      <th></th>\n",
       "      <th>CD_TISS</th>\n",
       "      <th>CD_TAB_FAT</th>\n",
       "      <th>DT_VIGENCIA</th>\n",
       "      <th>VL_HONORARIO</th>\n",
       "      <th>VL_OPERACIONAL</th>\n",
       "      <th>VL_TOTAL</th>\n",
       "      <th>SN_ATIVO</th>\n",
       "      <th>NM_USUARIO</th>\n",
       "    </tr>\n",
       "  </thead>\n",
       "  <tbody>\n",
       "  </tbody>\n",
       "</table>\n",
       "</div>"
      ],
      "text/plain": [
       "Empty DataFrame\n",
       "Columns: [CD_TISS, CD_TAB_FAT, DT_VIGENCIA, VL_HONORARIO, VL_OPERACIONAL, VL_TOTAL, SN_ATIVO, NM_USUARIO]\n",
       "Index: []"
      ]
     },
     "execution_count": 2,
     "metadata": {},
     "output_type": "execute_result"
    }
   ],
   "source": [
    "query_sql = \"\"\"\n",
    "    SELECT  \n",
    "        CD_TISS, CD_TAB_FAT, DT_VIGENCIA, VL_HONORARIO, VL_OPERACIONAL, VL_TOTAL, SN_ATIVO, NM_USUARIO\n",
    "    FROM DBAHUMS.DE_PARA_HUMS\n",
    "\"\"\"\n",
    "\n",
    "con = get_conexao()\n",
    "cur = con.cursor()\n",
    "\n",
    "cur.execute(query_sql)\n",
    "rows = cur.fetchall() # Pega os dados\n",
    "\n",
    "columns = [desc[0] for desc in cur.description]\n",
    "\n",
    "cur.close()\n",
    "con.close()\n",
    "\n",
    "df_result = pd.DataFrame(rows, columns=columns)\n",
    "\n",
    "df_result"
   ]
  }
 ],
 "metadata": {
  "kernelspec": {
   "display_name": "Python 3",
   "language": "python",
   "name": "python3"
  },
  "language_info": {
   "codemirror_mode": {
    "name": "ipython",
    "version": 3
   },
   "file_extension": ".py",
   "mimetype": "text/x-python",
   "name": "python",
   "nbconvert_exporter": "python",
   "pygments_lexer": "ipython3",
   "version": "3.12.2"
  }
 },
 "nbformat": 4,
 "nbformat_minor": 5
}
