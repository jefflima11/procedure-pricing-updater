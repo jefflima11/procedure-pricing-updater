{
 "cells": [
  {
   "cell_type": "code",
   "execution_count": null,
   "id": "4c8c5797",
   "metadata": {},
   "outputs": [],
   "source": [
    "import getpass\n",
    "import oracledb\n",
    "import os\n",
    "from dotenv import load_dotenv\n",
    "import pandas as pd\n",
    "\n",
    "load_dotenv()\n",
    "\n",
    "# Necessário para oracle versões 11g ou anteriores\n",
    "oracledb.init_oracle_client(lib_dir=r\"C:\\oracle\\instantclient_21_12\")\n",
    "\n",
    "# Entrada de usuario e senha no terminal\n",
    "# user = input(\"Usuario: \")\n",
    "# pw = getpass.getpass(\"Enter password: \")\n",
    "\n",
    "user = os.environ.get(\"DB_USER\")\n",
    "password = os.environ.get(\"DB_PASS\")\n",
    "dsn = os.environ.get(\"DB_STRING\")\n",
    "\n",
    "def get_connection():\n",
    "    return oracledb.connect(user=user, password=password, dsn=dsn)"
   ]
  }
 ],
 "metadata": {
  "kernelspec": {
   "display_name": "Python 3",
   "language": "python",
   "name": "python3"
  },
  "language_info": {
   "codemirror_mode": {
    "name": "ipython",
    "version": 3
   },
   "file_extension": ".py",
   "mimetype": "text/x-python",
   "name": "python",
   "nbconvert_exporter": "python",
   "pygments_lexer": "ipython3",
   "version": "3.12.2"
  }
 },
 "nbformat": 4,
 "nbformat_minor": 5
}
