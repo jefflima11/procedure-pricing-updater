{
 "cells": [
  {
   "cell_type": "code",
   "execution_count": 1,
   "id": "4c8c5797",
   "metadata": {},
   "outputs": [],
   "source": [
    "from dotenv import load_dotenv\n",
    "import os\n",
    "import cx_Oracle\n",
    "import pandas as pd\n",
    "\n",
    "# Carrega as variaveis do dotenv\n",
    "load_dotenv()\n",
    "\n",
    "# Vincula as variaveis de ambiente\n",
    "usuario = os.getenv(\"DB_USER\")\n",
    "senha = os.getenv(\"DB_PASS\")\n",
    "host = os.getenv(\"DB_HOST\")\n",
    "porta = os.getenv(\"DB_PORT\")\n",
    "servico = os.getenv(\"DB_SERVICE\")\n",
    "\n",
    "dsn = cx_Oracle.makedsn(host, porta, service_name=servico)\n",
    "\n",
    "con = cx_Oracle.connect(user=usuario, password=senha, dsn=dsn)\n",
    "\n",
    "def get_conexao():\n",
    "    return cx_Oracle.connect(user=usuario, password=senha, dsn=dsn)"
   ]
  }
 ],
 "metadata": {
  "kernelspec": {
   "display_name": "Python 3",
   "language": "python",
   "name": "python3"
  },
  "language_info": {
   "codemirror_mode": {
    "name": "ipython",
    "version": 3
   },
   "file_extension": ".py",
   "mimetype": "text/x-python",
   "name": "python",
   "nbconvert_exporter": "python",
   "pygments_lexer": "ipython3",
   "version": "3.12.2"
  }
 },
 "nbformat": 4,
 "nbformat_minor": 5
}
