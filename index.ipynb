{
 "cells": [
  {
   "cell_type": "code",
   "execution_count": null,
   "id": "1e04ea17",
   "metadata": {},
   "outputs": [],
   "source": [
    "import pandas as pd\n",
    "import os\n",
    "\n",
    "file_name = input(\"Digite o nome do arquivo Excel (com extensão): \")\n",
    "\n",
    "file_path = os.path.join(\"src\", \"data\", \"in\", file_name)\n",
    "\n",
    "if not os.path.isfile(file_path):\n",
    "    print(\"Arquivo não encontrado!\")\n",
    "    raise SystemExit()\n",
    "\n",
    "try:\n",
    "    df = pd.read_excel(file_path, sheet_name=\"Plan1\")\n",
    "except Exception as e:\n",
    "    print(f\"Erro ao ler o arquivo: {e}\")\n",
    "    df = None\n",
    "    raise SystemExit()\n",
    "\n",
    "expected_cols = [\"Código\", \"Preço Máximo Intercâmbio Nacional\"]\n",
    "if not all(col in df.columns for col in expected_cols):\n",
    "    print(\"As colunas esperadas não foram encontradas na planilha.\")\n",
    "    raise SystemExit()\n",
    "\n",
    "df.dropna(inplace=True)\n",
    "df.rename(columns={\n",
    "    \"Código\": \"cod_tiss\",\n",
    "    \"Preço Máximo Intercâmbio Nacional\": \"valor\"\n",
    "}, inplace=True)"
   ]
  },
  {
   "cell_type": "code",
   "execution_count": null,
   "id": "f4d1fbeb",
   "metadata": {},
   "outputs": [],
   "source": [
    "df = df[[\"cod_tiss\", \"valor\"]]\n",
    "df[\"valor\"] = df[\"valor\"].str.replace(\",\", \".\", regex=False)\n",
    "df[\"vl_honorario\"] = 0\n",
    "df[\"vl_operacional\"] = 0\n",
    "df[\"dt_vigencia\"] = \"2025-06-18\"\n"
   ]
  }
 ],
 "metadata": {
  "kernelspec": {
   "display_name": "Python 3",
   "language": "python",
   "name": "python3"
  },
  "language_info": {
   "codemirror_mode": {
    "name": "ipython",
    "version": 3
   },
   "file_extension": ".py",
   "mimetype": "text/x-python",
   "name": "python",
   "nbconvert_exporter": "python",
   "pygments_lexer": "ipython3",
   "version": "3.12.2"
  }
 },
 "nbformat": 4,
 "nbformat_minor": 5
}
