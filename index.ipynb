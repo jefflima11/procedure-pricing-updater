{
 "cells": [
  {
   "cell_type": "code",
   "execution_count": 6,
   "id": "1e04ea17",
   "metadata": {},
   "outputs": [],
   "source": [
    "# import cx_Oracle\n",
    "from connection_oracle import get_conexao\n",
    "import pandas as pd\n",
    "import os\n",
    "\n",
    "# file_name = input(\"Digite o nome do arquivo Excel (com extensão): \")\n",
    "\n",
    "# file_path = os.path.join(\"src\", \"data\", \"in\", file_name)\n",
    "\n",
    "file_path = os.path.join(\"src\",\"data\", \"in\", \"tab_med_maio.xlsx\")\n",
    "\n",
    "if not os.path.isfile(file_path):\n",
    "    print(\"Arquivo não encontrado!\")\n",
    "    raise SystemExit()\n",
    "\n",
    "try:\n",
    "    df = pd.read_excel(file_path, sheet_name=\"Plan1\")\n",
    "except Exception as e:\n",
    "    print(f\"Erro ao ler o arquivo: {e}\")\n",
    "    df = None\n",
    "    raise SystemExit()\n",
    "\n",
    "expected_cols = [\"Código\", \"Preço Máximo Intercâmbio Nacional\"]\n",
    "if not all(col in df.columns for col in expected_cols):\n",
    "    print(\"As colunas esperadas não foram encontradas na planilha.\")\n",
    "    raise SystemExit()\n",
    "\n",
    "# df.dropna(inplace=True)\n",
    "df.rename(columns={\n",
    "    \"Cod TISS Brasindice\": \"cod_tiss\",\n",
    "    \"Preço Máximo Intercâmbio Nacional\": \"valor\"\n",
    "}, inplace=True)\n",
    "\n",
    "df.to_excel(\"./src/data/out/teste.xlsx\", sheet_name=\"Plan1\", index=False)"
   ]
  },
  {
   "cell_type": "code",
   "execution_count": 3,
   "id": "354d43a9",
   "metadata": {},
   "outputs": [
    {
     "name": "stdout",
     "output_type": "stream",
     "text": [
      "         cod_tiss   valor\n",
      "11491  0000025776  8,9040\n"
     ]
    }
   ],
   "source": [
    "result = df[[\"cod_tiss\", \"valor\"]][df[\"cod_tiss\"] == \"0000025776\"]\n",
    "\n",
    "print(result)"
   ]
  },
  {
   "cell_type": "code",
   "execution_count": 43,
   "id": "bb1c5ed3",
   "metadata": {},
   "outputs": [
    {
     "name": "stdout",
     "output_type": "stream",
     "text": [
      "Index(['Código', 'TISS TP Tabela', 'TISS Código do Medicamento',\n",
      "       'Nome e Apresentação Comercial', 'Principio Ativo', 'Genérico',\n",
      "       'Grupo Farmacológico', 'Classe Farmacológica', 'Forma Farmacêutica',\n",
      "       'Unid Mín Fração', 'CNPJ do Detentor do Registro',\n",
      "       'Detentor do Registro na Anvisa', 'Registro ANVISA', 'valor',\n",
      "       'Valor Fator Conversao', 'Taxa Custos', 'Observações',\n",
      "       'TISS Cód. Anterior', 'Cód. Anterior', 'Tipo de Produto',\n",
      "       'Tipo de Codificacao', 'Data Inicio Vigencia', 'Data Fim Vigencia',\n",
      "       'Motivo de insercao (Data fim de vigencia)', 'Data Fim de Implantacao',\n",
      "       'cod_tiss', 'Descrição Brasindice', 'Apresentação Brasindice'],\n",
      "      dtype='object')\n"
     ]
    }
   ],
   "source": [
    "print(df.columns)"
   ]
  },
  {
   "cell_type": "code",
   "execution_count": null,
   "id": "844f025f",
   "metadata": {},
   "outputs": [],
   "source": [
    "resultado = df[df[\"cod_tiss\"] == \"0000025776\"][[\"cod_tiss\", \"valor\"]]\n",
    "print(resultado)"
   ]
  },
  {
   "cell_type": "code",
   "execution_count": null,
   "id": "f4d1fbeb",
   "metadata": {},
   "outputs": [],
   "source": [
    "df = df[[\"cod_tiss\", \"valor\"]]\n",
    "df[\"valor\"] = df[\"valor\"].str.replace(\",\", \".\", regex=False)\n",
    "df[\"vl_honorario\"] = 0\n",
    "df[\"vl_operacional\"] = 0\n",
    "df[\"dt_vigencia\"] = \"2025-06-18\""
   ]
  },
  {
   "cell_type": "code",
   "execution_count": null,
   "id": "da78aa25",
   "metadata": {},
   "outputs": [],
   "source": [
    "df[\"vl_honorario\"] = pd.to_numeric(df[\"vl_honorario\"], errors=\"coerce\").fillna(0)\n",
    "df[\"vl_operacional\"] = pd.to_numeric(df[\"vl_operacional\"], errors=\"coerce\").fillna(0)\n",
    "df[\"valor\"] = pd.to_numeric(df[\"valor\"], errors=\"coerce\").fillna(0)\n",
    "\n",
    "df= df[df[\"cod_tiss\"].str.upper() != \"NAO POSSUI BRASINDICE\"]"
   ]
  },
  {
   "cell_type": "code",
   "execution_count": null,
   "id": "33bdb48c",
   "metadata": {},
   "outputs": [],
   "source": [
    "vigencia_date = input(\"Informe a data no formato (dia/mês/ano):\")\n",
    "\n",
    "sql = \"\"\"\n",
    "    INSERT INTO DBAHUMS.DE_PARA_HUMS (\n",
    "        CD_TISS, CD_TAB_FAT, DT_VIGENCIA, VL_HONORARIO, VL_OPERACIONAL, VL_TOTAL, SN_ATIVO, NM_USUARIO\n",
    "    )\n",
    "    VALUES (\n",
    "        :cd_tiss, :cd_tab_fat, to_date(:dt_vigencia, 'dd/mm/yyyy'), :vl_honorario, :vl_operacional, :vl_total, :sn_ativo, USER\n",
    "    )\n",
    "\"\"\"\n",
    "\n",
    "con = get_conexao()\n",
    "cur = con.cursor()\n",
    "\n",
    "dados = [\n",
    "    {\n",
    "        \"cd_tiss\": str(row[\"cod_tiss\"]),\n",
    "        \"cd_tab_fat\": 1,\n",
    "        \"dt_vigencia\": vigencia_date,\n",
    "        \"vl_honorario\": float(row[\"vl_honorario\"]),\n",
    "        \"vl_operacional\": float(row[\"vl_operacional\"]),\n",
    "        \"vl_total\": float(row[\"valor\"]),\n",
    "        \"sn_ativo\": \"S\"\n",
    "    }\n",
    "    for idx, row in df.iterrows()\n",
    "]\n",
    "\n",
    "cur.executemany(sql, dados)\n",
    "con.commit()\n",
    "cur.close()\n",
    "con.close()"
   ]
  }
 ],
 "metadata": {
  "kernelspec": {
   "display_name": "Python 3",
   "language": "python",
   "name": "python3"
  },
  "language_info": {
   "codemirror_mode": {
    "name": "ipython",
    "version": 3
   },
   "file_extension": ".py",
   "mimetype": "text/x-python",
   "name": "python",
   "nbconvert_exporter": "python",
   "pygments_lexer": "ipython3",
   "version": "3.12.2"
  }
 },
 "nbformat": 4,
 "nbformat_minor": 5
}
