{
 "cells": [
  {
   "cell_type": "code",
   "execution_count": null,
   "id": "1e04ea17",
   "metadata": {},
   "outputs": [],
   "source": [
    "import pandas as pd\n",
    "\n",
    "df = pd.read_excel(\"./src/data/Tabela de Medicamento - Maio 2025.xlsx\", sheet_name=\"Plan1\")\n",
    "\n",
    "df.dropna(inplace=True)\n",
    "\n",
    "df.rename(columns={\"Código\": \"cod_tiss\", \"Preço Máximo Intercâmbio Nacional\": \"valor\"}, inplace=True)"
   ]
  },
  {
   "cell_type": "code",
   "execution_count": null,
   "id": "f4d1fbeb",
   "metadata": {},
   "outputs": [],
   "source": [
    "df = df[[\"cod_tiss\", \"valor\"]]\n",
    "\n",
    "df[\"valor\"] = df[\"valor\"].str.replace(\",\", \".\", regex=False)\n",
    "\n",
    "df[\"vl_honorario\"] = 0\n",
    "\n",
    "df[\"vl_operacional\"] = 0\n",
    "\n",
    "df[\"dt_vigencia\"] = \"2025-06-18\""
   ]
  },
  {
   "cell_type": "code",
   "execution_count": null,
   "id": "3499628f",
   "metadata": {},
   "outputs": [],
   "source": [
    "df.head()"
   ]
  }
 ],
 "metadata": {
  "kernelspec": {
   "display_name": "Python 3",
   "language": "python",
   "name": "python3"
  },
  "language_info": {
   "codemirror_mode": {
    "name": "ipython",
    "version": 3
   },
   "file_extension": ".py",
   "mimetype": "text/x-python",
   "name": "python",
   "nbconvert_exporter": "python",
   "pygments_lexer": "ipython3",
   "version": "3.12.2"
  }
 },
 "nbformat": 4,
 "nbformat_minor": 5
}
